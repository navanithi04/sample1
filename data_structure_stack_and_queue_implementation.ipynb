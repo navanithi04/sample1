{
  "nbformat": 4,
  "nbformat_minor": 0,
  "metadata": {
    "colab": {
      "provenance": [],
      "authorship_tag": "ABX9TyPpx2gZ0Yknpt1/WHyAkYkT",
      "include_colab_link": true
    },
    "kernelspec": {
      "name": "python3",
      "display_name": "Python 3"
    },
    "language_info": {
      "name": "python"
    }
  },
  "cells": [
    {
      "cell_type": "markdown",
      "metadata": {
        "id": "view-in-github",
        "colab_type": "text"
      },
      "source": [
        "<a href=\"https://colab.research.google.com/github/navanithi04/sample1/blob/main/data_structure_stack_and_queue_implementation.ipynb\" target=\"_parent\"><img src=\"https://colab.research.google.com/assets/colab-badge.svg\" alt=\"Open In Colab\"/></a>"
      ]
    },
    {
      "cell_type": "code",
      "execution_count": null,
      "metadata": {
        "colab": {
          "base_uri": "https://localhost:8080/"
        },
        "id": "C4LTw8zn1o-1",
        "outputId": "3607c1c4-0b88-4f16-88bc-4f63540ca0ff"
      },
      "outputs": [
        {
          "output_type": "stream",
          "name": "stdout",
          "text": [
            "['a', 'b', 'c']\n",
            "c\n"
          ]
        }
      ],
      "source": [
        "stack=[]\n",
        "stack.append('a')\n",
        "stack.append('b')\n",
        "stack.append('c')\n",
        "print(stack)\n",
        "print(stack.pop())"
      ]
    },
    {
      "cell_type": "code",
      "source": [
        "class Stack:\n",
        "  items=[]\n",
        "  def __init__(self):\n",
        "    self.items=[]\n",
        "  def push(self,element):\n",
        "    self.items.append(element)\n",
        "  def pop(self):\n",
        "    if(len(self.items)<0):\n",
        "      print(\"empty stack\")\n",
        "    else:\n",
        "      print(self.items.pop())\n",
        "      \n"
      ],
      "metadata": {
        "id": "4uiJbKFz7Bhr"
      },
      "execution_count": null,
      "outputs": []
    },
    {
      "cell_type": "code",
      "source": [
        "# A linked list node\n",
        "class Node:\n",
        "    def __init__(self, key, next=None):\n",
        "        self.data = key\n",
        "        self.next = next\n",
        " \n",
        " \n",
        "class Queue:\n",
        " \n",
        "    def __init__(self):\n",
        "        self.fnt = None\n",
        "        self.rear = None\n",
        "        self.sz = 0\n",
        " \n",
        "    \n",
        "    def enqueue(self, x):  # insert at the beginning\n",
        "    #@start-editable@\n",
        "\n",
        "\n",
        "        newnode=Node(x)\n",
        "        if(self.sz==0):\n",
        "            self.fnt=newnode\n",
        "            self.rear=newnode\n",
        "            self.sz+=1\n",
        "        else:\n",
        "            self.rear.next=newnode\n",
        "            self.rear=newnode\n",
        "            self.sz+=1\n",
        "        \n",
        "        return\n",
        "    #@end-editable@\n",
        "\n",
        "    def dequeue(self):  \n",
        "    #@start-editable@\n",
        "\n",
        "\n",
        "        if(self.sz==0):\n",
        "            return\n",
        "        self.fnt=self.fnt.next\n",
        "        self.sz-=1\n",
        "        \n",
        "        if(self.fnt==None):\n",
        "            self.rear=None\n",
        "\n",
        "    #@end-editable@\n",
        "\n",
        "    def isEmpty(self):\n",
        "    #@start-editable@\n",
        "\n",
        "\n",
        "        if(self.sz==0):\n",
        "            return True\n",
        "        else:\n",
        "            return False\n",
        "    #@end-editable@\n",
        " \n",
        "    # Utility function to return top element in a stack\n",
        "    def front(self):\n",
        "    #@start-editable@\n",
        "\n",
        "        if(self.sz==0):\n",
        "            return True\n",
        "        else:\n",
        "            return False\n",
        "\n",
        "    #@end-editable@\n",
        "    \n",
        "    def size(self):\n",
        "    #@start-editable@\n",
        "\n",
        "\n",
        "        return self.sz\n",
        "    #@end-editable@\n",
        "\n",
        "    def printQueue(self):\n",
        "        tnode = self.fnt\n",
        "        while tnode!=None:\n",
        "            print(tnode.data,end=\" \")\n",
        "            tnode = tnode.next\n",
        "        print(\"\")\n",
        "        return\n",
        "    # Utility function to pop top element from the stack\n",
        "    \n",
        " \n",
        " \n",
        "\n",
        "# Driver code.---------------------------------------------\n",
        "\n",
        "def testQueue():\n",
        "    #testcases=int(input())\n",
        "    #stacksize=int(input())\n",
        "    Qu = Queue()\n",
        "    inputs=int(input())\n",
        "    while inputs>0:\n",
        "        command=input()\n",
        "        operation=command.split()\n",
        "        if(operation[0]==\"S\"):\n",
        "            print(Qu.size())\n",
        "        elif(operation[0]==\"I\"):\n",
        "            print(Qu.isEmpty())\n",
        "        elif(operation[0]==\"E\"):\n",
        "            Qu.enqueue(int(operation[1]))\n",
        "            Qu.printQueue()\n",
        "        elif(operation[0]==\"D\"):\n",
        "            Qu.dequeue()\n",
        "            Qu.printQueue()\n",
        "        elif(operation[0]==\"F\"):\n",
        "            print(Qu.front())\n",
        "        elif(operation[0]==\"F\"):\n",
        "            Qu.delMid()\n",
        "        inputs-=1\n",
        "\n",
        "def main():\n",
        "    testQueue()\n",
        "\n",
        "if __name__ == '__main__':\n",
        "    main()"
      ],
      "metadata": {
        "id": "LZ6L1lYDWFIk"
      },
      "execution_count": null,
      "outputs": []
    }
  ]
}